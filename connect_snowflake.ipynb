{
 "cells": [
  {
   "cell_type": "code",
   "execution_count": 20,
   "id": "ea0c6b60",
   "metadata": {},
   "outputs": [
    {
     "name": "stdout",
     "output_type": "stream",
     "text": [
      "Requirement already satisfied: snowflake-connector-python in /home/ec2-user/anaconda3/envs/python3/lib/python3.6/site-packages (2.4.3)\n",
      "Requirement already satisfied: azure-storage-blob<13.0.0,>=12.0.0 in /home/ec2-user/anaconda3/envs/python3/lib/python3.6/site-packages (from snowflake-connector-python) (12.8.1)\n",
      "Requirement already satisfied: asn1crypto<2.0.0,>0.24.0 in /home/ec2-user/anaconda3/envs/python3/lib/python3.6/site-packages (from snowflake-connector-python) (1.4.0)\n",
      "Requirement already satisfied: boto3<2.0.0,>=1.4.4 in /home/ec2-user/anaconda3/envs/python3/lib/python3.6/site-packages (from snowflake-connector-python) (1.17.75)\n",
      "Requirement already satisfied: requests<3.0.0 in /home/ec2-user/anaconda3/envs/python3/lib/python3.6/site-packages (from snowflake-connector-python) (2.25.1)\n",
      "Requirement already satisfied: idna<3,>=2.5 in /home/ec2-user/anaconda3/envs/python3/lib/python3.6/site-packages (from snowflake-connector-python) (2.10)\n",
      "Requirement already satisfied: certifi<2021.0.0 in /home/ec2-user/anaconda3/envs/python3/lib/python3.6/site-packages (from snowflake-connector-python) (2020.12.5)\n",
      "Requirement already satisfied: dataclasses<1.0 in /home/ec2-user/anaconda3/envs/python3/lib/python3.6/site-packages (from snowflake-connector-python) (0.8)\n",
      "Requirement already satisfied: pyjwt<3.0.0 in /home/ec2-user/anaconda3/envs/python3/lib/python3.6/site-packages (from snowflake-connector-python) (2.1.0)\n",
      "Requirement already satisfied: chardet<4,>=3.0.2 in /home/ec2-user/anaconda3/envs/python3/lib/python3.6/site-packages (from snowflake-connector-python) (3.0.4)\n",
      "Requirement already satisfied: azure-common<2.0.0 in /home/ec2-user/anaconda3/envs/python3/lib/python3.6/site-packages (from snowflake-connector-python) (1.1.27)\n",
      "Requirement already satisfied: cryptography<4.0.0,>=2.5.0 in /home/ec2-user/anaconda3/envs/python3/lib/python3.6/site-packages (from snowflake-connector-python) (3.4.4)\n",
      "Requirement already satisfied: pytz in /home/ec2-user/anaconda3/envs/python3/lib/python3.6/site-packages (from snowflake-connector-python) (2021.1)\n",
      "Requirement already satisfied: oscrypto<2.0.0 in /home/ec2-user/anaconda3/envs/python3/lib/python3.6/site-packages (from snowflake-connector-python) (1.2.1)\n",
      "Requirement already satisfied: pyOpenSSL<21.0.0,>=16.2.0 in /home/ec2-user/anaconda3/envs/python3/lib/python3.6/site-packages (from snowflake-connector-python) (20.0.1)\n",
      "Requirement already satisfied: pycryptodomex!=3.5.0,<4.0.0,>=3.2 in /home/ec2-user/anaconda3/envs/python3/lib/python3.6/site-packages (from snowflake-connector-python) (3.10.1)\n",
      "Requirement already satisfied: cffi<2.0.0,>=1.9 in /home/ec2-user/anaconda3/envs/python3/lib/python3.6/site-packages (from snowflake-connector-python) (1.14.5)\n",
      "Requirement already satisfied: setuptools>34.0.0 in /home/ec2-user/anaconda3/envs/python3/lib/python3.6/site-packages (from snowflake-connector-python) (49.6.0.post20210108)\n",
      "Requirement already satisfied: azure-core<2.0.0,>=1.10.0 in /home/ec2-user/anaconda3/envs/python3/lib/python3.6/site-packages (from azure-storage-blob<13.0.0,>=12.0.0->snowflake-connector-python) (1.14.0)\n",
      "Requirement already satisfied: msrest>=0.6.18 in /home/ec2-user/anaconda3/envs/python3/lib/python3.6/site-packages (from azure-storage-blob<13.0.0,>=12.0.0->snowflake-connector-python) (0.6.21)\n",
      "Requirement already satisfied: six>=1.11.0 in /home/ec2-user/anaconda3/envs/python3/lib/python3.6/site-packages (from azure-core<2.0.0,>=1.10.0->azure-storage-blob<13.0.0,>=12.0.0->snowflake-connector-python) (1.15.0)\n",
      "Requirement already satisfied: jmespath<1.0.0,>=0.7.1 in /home/ec2-user/anaconda3/envs/python3/lib/python3.6/site-packages (from boto3<2.0.0,>=1.4.4->snowflake-connector-python) (0.10.0)\n",
      "Requirement already satisfied: s3transfer<0.5.0,>=0.4.0 in /home/ec2-user/anaconda3/envs/python3/lib/python3.6/site-packages (from boto3<2.0.0,>=1.4.4->snowflake-connector-python) (0.4.2)\n",
      "Requirement already satisfied: botocore<1.21.0,>=1.20.75 in /home/ec2-user/anaconda3/envs/python3/lib/python3.6/site-packages (from boto3<2.0.0,>=1.4.4->snowflake-connector-python) (1.20.75)\n",
      "Requirement already satisfied: urllib3<1.27,>=1.25.4 in /home/ec2-user/anaconda3/envs/python3/lib/python3.6/site-packages (from botocore<1.21.0,>=1.20.75->boto3<2.0.0,>=1.4.4->snowflake-connector-python) (1.26.4)\n",
      "Requirement already satisfied: python-dateutil<3.0.0,>=2.1 in /home/ec2-user/anaconda3/envs/python3/lib/python3.6/site-packages (from botocore<1.21.0,>=1.20.75->boto3<2.0.0,>=1.4.4->snowflake-connector-python) (2.8.1)\n",
      "Requirement already satisfied: pycparser in /home/ec2-user/anaconda3/envs/python3/lib/python3.6/site-packages (from cffi<2.0.0,>=1.9->snowflake-connector-python) (2.20)\n",
      "Requirement already satisfied: requests-oauthlib>=0.5.0 in /home/ec2-user/anaconda3/envs/python3/lib/python3.6/site-packages (from msrest>=0.6.18->azure-storage-blob<13.0.0,>=12.0.0->snowflake-connector-python) (1.3.0)\n",
      "Requirement already satisfied: isodate>=0.6.0 in /home/ec2-user/anaconda3/envs/python3/lib/python3.6/site-packages (from msrest>=0.6.18->azure-storage-blob<13.0.0,>=12.0.0->snowflake-connector-python) (0.6.0)\n",
      "Requirement already satisfied: oauthlib>=3.0.0 in /home/ec2-user/anaconda3/envs/python3/lib/python3.6/site-packages (from requests-oauthlib>=0.5.0->msrest>=0.6.18->azure-storage-blob<13.0.0,>=12.0.0->snowflake-connector-python) (3.1.0)\n"
     ]
    }
   ],
   "source": [
    "!pip install snowflake-connector-python\n",
    "#new comment"
   ]
  },
  {
   "cell_type": "code",
   "execution_count": 7,
   "id": "a3b23dbe",
   "metadata": {},
   "outputs": [
    {
     "name": "stdout",
     "output_type": "stream",
     "text": [
      "Requirement already satisfied: pyarrow in /home/ec2-user/anaconda3/envs/python3/lib/python3.6/site-packages (4.0.0)\n",
      "Requirement already satisfied: numpy>=1.16.6 in /home/ec2-user/anaconda3/envs/python3/lib/python3.6/site-packages (from pyarrow) (1.19.5)\n"
     ]
    }
   ],
   "source": [
    "!pip install pyarrow"
   ]
  },
  {
   "cell_type": "code",
   "execution_count": 8,
   "id": "10f05a47",
   "metadata": {},
   "outputs": [],
   "source": [
    "import snowflake.connector\n"
   ]
  },
  {
   "cell_type": "code",
   "execution_count": 15,
   "id": "7977e26b",
   "metadata": {},
   "outputs": [],
   "source": [
    "# Connecting to Snowflake using the default authenticator\n",
    "ctx = snowflake.connector.connect(\n",
    "  user='manjaha',\n",
    "  password='PafnutiY6y',\n",
    "  account='jz58842.us-east-2.aws',\n",
    "  database='aws_testdb',\n",
    "  schema='public'\n",
    ")"
   ]
  },
  {
   "cell_type": "code",
   "execution_count": 21,
   "id": "53d516c9",
   "metadata": {},
   "outputs": [
    {
     "name": "stdout",
     "output_type": "stream",
     "text": [
      "<snowflake.connector.cursor.SnowflakeCursor object at 0x7f71501058d0>\n"
     ]
    }
   ],
   "source": [
    "#create cursor\n",
    "curs = ctx.cursor()\n",
    "#execute SQL statement\n",
    "curs.execute(\"select * from adobe_exclusion;\")\n",
    "#fetch result\n",
    "print(curs.fetchone()[0])"
   ]
  },
  {
   "cell_type": "code",
   "execution_count": null,
   "id": "2ac7d3af",
   "metadata": {},
   "outputs": [],
   "source": []
  }
 ],
 "metadata": {
  "kernelspec": {
   "display_name": "conda_python3",
   "language": "python",
   "name": "conda_python3"
  },
  "language_info": {
   "codemirror_mode": {
    "name": "ipython",
    "version": 3
   },
   "file_extension": ".py",
   "mimetype": "text/x-python",
   "name": "python",
   "nbconvert_exporter": "python",
   "pygments_lexer": "ipython3",
   "version": "3.6.13"
  }
 },
 "nbformat": 4,
 "nbformat_minor": 5
}
